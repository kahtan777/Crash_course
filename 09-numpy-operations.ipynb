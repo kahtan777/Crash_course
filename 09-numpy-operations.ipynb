{
 "cells": [
  {
   "cell_type": "markdown",
   "id": "72eb835d",
   "metadata": {
    "id": "BhH00LdsL5Jq",
    "papermill": {
     "duration": 0.004842,
     "end_time": "2022-12-08T10:04:25.674744",
     "exception": false,
     "start_time": "2022-12-08T10:04:25.669902",
     "status": "completed"
    },
    "tags": []
   },
   "source": [
    "# NumPy Operations"
   ]
  },
  {
   "cell_type": "markdown",
   "id": "cbe845ba",
   "metadata": {
    "id": "Ao-5SmiYL5Jq",
    "papermill": {
     "duration": 0.003385,
     "end_time": "2022-12-08T10:04:25.682184",
     "exception": false,
     "start_time": "2022-12-08T10:04:25.678799",
     "status": "completed"
    },
    "tags": []
   },
   "source": [
    "## Arithmetic\n",
    "\n",
    "You can easily perform array with array arithmetic, or scalar with array arithmetic. Let's see some examples:"
   ]
  },
  {
   "cell_type": "code",
   "execution_count": 1,
   "id": "e12603f2",
   "metadata": {
    "collapsed": true,
    "execution": {
     "iopub.execute_input": "2022-12-08T10:04:25.692281Z",
     "iopub.status.busy": "2022-12-08T10:04:25.691218Z",
     "iopub.status.idle": "2022-12-08T10:04:25.703383Z",
     "shell.execute_reply": "2022-12-08T10:04:25.702583Z"
    },
    "id": "PO6Hrkg3L5Jr",
    "jupyter": {
     "outputs_hidden": true
    },
    "papermill": {
     "duration": 0.020088,
     "end_time": "2022-12-08T10:04:25.705907",
     "exception": false,
     "start_time": "2022-12-08T10:04:25.685819",
     "status": "completed"
    },
    "tags": []
   },
   "outputs": [],
   "source": [
    "import numpy as np\n",
    "arr = np.arange(0,10)"
   ]
  },
  {
   "cell_type": "code",
   "execution_count": 2,
   "id": "0d31ffa6",
   "metadata": {
    "execution": {
     "iopub.execute_input": "2022-12-08T10:04:25.715773Z",
     "iopub.status.busy": "2022-12-08T10:04:25.715083Z",
     "iopub.status.idle": "2022-12-08T10:04:25.727827Z",
     "shell.execute_reply": "2022-12-08T10:04:25.726791Z"
    },
    "id": "5HIXObnNL5Js",
    "outputId": "2d7c4620-704d-424e-fe4c-dbd9c74f366d",
    "papermill": {
     "duration": 0.020467,
     "end_time": "2022-12-08T10:04:25.730333",
     "exception": false,
     "start_time": "2022-12-08T10:04:25.709866",
     "status": "completed"
    },
    "tags": []
   },
   "outputs": [
    {
     "data": {
      "text/plain": [
       "array([ 0,  2,  4,  6,  8, 10, 12, 14, 16, 18])"
      ]
     },
     "execution_count": 2,
     "metadata": {},
     "output_type": "execute_result"
    }
   ],
   "source": [
    "arr + arr"
   ]
  },
  {
   "cell_type": "code",
   "execution_count": 3,
   "id": "5b5debb3",
   "metadata": {
    "execution": {
     "iopub.execute_input": "2022-12-08T10:04:25.740416Z",
     "iopub.status.busy": "2022-12-08T10:04:25.739671Z",
     "iopub.status.idle": "2022-12-08T10:04:25.746383Z",
     "shell.execute_reply": "2022-12-08T10:04:25.745553Z"
    },
    "id": "mRzxfEyBL5Js",
    "outputId": "7bae5d7e-470f-4c63-8076-d373553b6956",
    "papermill": {
     "duration": 0.014146,
     "end_time": "2022-12-08T10:04:25.748559",
     "exception": false,
     "start_time": "2022-12-08T10:04:25.734413",
     "status": "completed"
    },
    "tags": []
   },
   "outputs": [
    {
     "data": {
      "text/plain": [
       "array([ 0,  1,  4,  9, 16, 25, 36, 49, 64, 81])"
      ]
     },
     "execution_count": 3,
     "metadata": {},
     "output_type": "execute_result"
    }
   ],
   "source": [
    "arr * arr"
   ]
  },
  {
   "cell_type": "code",
   "execution_count": 4,
   "id": "b0422ab6",
   "metadata": {
    "execution": {
     "iopub.execute_input": "2022-12-08T10:04:25.758649Z",
     "iopub.status.busy": "2022-12-08T10:04:25.758250Z",
     "iopub.status.idle": "2022-12-08T10:04:25.764814Z",
     "shell.execute_reply": "2022-12-08T10:04:25.763717Z"
    },
    "id": "LOzo0xq9L5Jt",
    "outputId": "7f7682e0-1817-4982-d7b1-38536235848d",
    "papermill": {
     "duration": 0.014328,
     "end_time": "2022-12-08T10:04:25.767117",
     "exception": false,
     "start_time": "2022-12-08T10:04:25.752789",
     "status": "completed"
    },
    "tags": []
   },
   "outputs": [
    {
     "data": {
      "text/plain": [
       "array([0, 0, 0, 0, 0, 0, 0, 0, 0, 0])"
      ]
     },
     "execution_count": 4,
     "metadata": {},
     "output_type": "execute_result"
    }
   ],
   "source": [
    "arr - arr"
   ]
  },
  {
   "cell_type": "code",
   "execution_count": 5,
   "id": "610e0ddd",
   "metadata": {
    "execution": {
     "iopub.execute_input": "2022-12-08T10:04:25.777665Z",
     "iopub.status.busy": "2022-12-08T10:04:25.777021Z",
     "iopub.status.idle": "2022-12-08T10:04:25.785382Z",
     "shell.execute_reply": "2022-12-08T10:04:25.783941Z"
    },
    "id": "2aILHfbrL5Jt",
    "outputId": "d64d6dd6-5e6e-4e94-f6d9-ad8d8a6d88d6",
    "papermill": {
     "duration": 0.016568,
     "end_time": "2022-12-08T10:04:25.787918",
     "exception": false,
     "start_time": "2022-12-08T10:04:25.771350",
     "status": "completed"
    },
    "tags": []
   },
   "outputs": [
    {
     "name": "stderr",
     "output_type": "stream",
     "text": [
      "/opt/conda/lib/python3.7/site-packages/ipykernel_launcher.py:3: RuntimeWarning: invalid value encountered in true_divide\n",
      "  This is separate from the ipykernel package so we can avoid doing imports until\n"
     ]
    },
    {
     "data": {
      "text/plain": [
       "array([nan,  1.,  1.,  1.,  1.,  1.,  1.,  1.,  1.,  1.])"
      ]
     },
     "execution_count": 5,
     "metadata": {},
     "output_type": "execute_result"
    }
   ],
   "source": [
    "# Warning on division by zero, but not an error!\n",
    "# Just replaced with nan\n",
    "arr/arr"
   ]
  },
  {
   "cell_type": "code",
   "execution_count": 6,
   "id": "7a1e88d6",
   "metadata": {
    "execution": {
     "iopub.execute_input": "2022-12-08T10:04:25.799030Z",
     "iopub.status.busy": "2022-12-08T10:04:25.798610Z",
     "iopub.status.idle": "2022-12-08T10:04:25.806485Z",
     "shell.execute_reply": "2022-12-08T10:04:25.804986Z"
    },
    "id": "Oyxui2olL5Ju",
    "outputId": "64a1eea5-07c9-401f-c5e9-cda177852035",
    "papermill": {
     "duration": 0.016247,
     "end_time": "2022-12-08T10:04:25.808756",
     "exception": false,
     "start_time": "2022-12-08T10:04:25.792509",
     "status": "completed"
    },
    "tags": []
   },
   "outputs": [
    {
     "name": "stderr",
     "output_type": "stream",
     "text": [
      "/opt/conda/lib/python3.7/site-packages/ipykernel_launcher.py:2: RuntimeWarning: divide by zero encountered in true_divide\n",
      "  \n"
     ]
    },
    {
     "data": {
      "text/plain": [
       "array([       inf, 1.        , 0.5       , 0.33333333, 0.25      ,\n",
       "       0.2       , 0.16666667, 0.14285714, 0.125     , 0.11111111])"
      ]
     },
     "execution_count": 6,
     "metadata": {},
     "output_type": "execute_result"
    }
   ],
   "source": [
    "# Also warning, but not an error instead infinity\n",
    "1/arr"
   ]
  },
  {
   "cell_type": "code",
   "execution_count": 7,
   "id": "44b1cb87",
   "metadata": {
    "execution": {
     "iopub.execute_input": "2022-12-08T10:04:25.820550Z",
     "iopub.status.busy": "2022-12-08T10:04:25.819865Z",
     "iopub.status.idle": "2022-12-08T10:04:25.826581Z",
     "shell.execute_reply": "2022-12-08T10:04:25.825790Z"
    },
    "id": "U5dMmGJvL5Ju",
    "outputId": "0c1d71f5-b7ba-49ad-9763-374286ea772a",
    "papermill": {
     "duration": 0.015256,
     "end_time": "2022-12-08T10:04:25.828679",
     "exception": false,
     "start_time": "2022-12-08T10:04:25.813423",
     "status": "completed"
    },
    "tags": []
   },
   "outputs": [
    {
     "data": {
      "text/plain": [
       "array([  0,   1,   8,  27,  64, 125, 216, 343, 512, 729])"
      ]
     },
     "execution_count": 7,
     "metadata": {},
     "output_type": "execute_result"
    }
   ],
   "source": [
    "arr**3"
   ]
  },
  {
   "cell_type": "markdown",
   "id": "98b8c420",
   "metadata": {
    "id": "BoJnumsQL5Ju",
    "papermill": {
     "duration": 0.004524,
     "end_time": "2022-12-08T10:04:25.838184",
     "exception": false,
     "start_time": "2022-12-08T10:04:25.833660",
     "status": "completed"
    },
    "tags": []
   },
   "source": [
    "## Universal Array Functions\n",
    "\n",
    "Numpy comes with many [universal array functions](http://docs.scipy.org/doc/numpy/reference/ufuncs.html), which are essentially just mathematical operations you can use to perform the operation across the array. Let's show some common ones:"
   ]
  },
  {
   "cell_type": "code",
   "execution_count": 8,
   "id": "4090228b",
   "metadata": {
    "execution": {
     "iopub.execute_input": "2022-12-08T10:04:25.850258Z",
     "iopub.status.busy": "2022-12-08T10:04:25.849619Z",
     "iopub.status.idle": "2022-12-08T10:04:25.855354Z",
     "shell.execute_reply": "2022-12-08T10:04:25.854517Z"
    },
    "id": "I5HxBcI4L5Ju",
    "outputId": "749b93b0-26e2-40a7-979e-b1f176fbacc2",
    "papermill": {
     "duration": 0.014234,
     "end_time": "2022-12-08T10:04:25.857498",
     "exception": false,
     "start_time": "2022-12-08T10:04:25.843264",
     "status": "completed"
    },
    "tags": []
   },
   "outputs": [
    {
     "data": {
      "text/plain": [
       "array([0.        , 1.        , 1.41421356, 1.73205081, 2.        ,\n",
       "       2.23606798, 2.44948974, 2.64575131, 2.82842712, 3.        ])"
      ]
     },
     "execution_count": 8,
     "metadata": {},
     "output_type": "execute_result"
    }
   ],
   "source": [
    "#Taking Square Roots\n",
    "np.sqrt(arr)"
   ]
  },
  {
   "cell_type": "code",
   "execution_count": 9,
   "id": "b31825c8",
   "metadata": {
    "execution": {
     "iopub.execute_input": "2022-12-08T10:04:25.869605Z",
     "iopub.status.busy": "2022-12-08T10:04:25.869009Z",
     "iopub.status.idle": "2022-12-08T10:04:25.874746Z",
     "shell.execute_reply": "2022-12-08T10:04:25.873789Z"
    },
    "id": "v1dVNJ-9L5Jv",
    "outputId": "48e6e933-954f-41fa-8dde-1161182f48d0",
    "papermill": {
     "duration": 0.014151,
     "end_time": "2022-12-08T10:04:25.876827",
     "exception": false,
     "start_time": "2022-12-08T10:04:25.862676",
     "status": "completed"
    },
    "tags": []
   },
   "outputs": [
    {
     "data": {
      "text/plain": [
       "array([1.00000000e+00, 2.71828183e+00, 7.38905610e+00, 2.00855369e+01,\n",
       "       5.45981500e+01, 1.48413159e+02, 4.03428793e+02, 1.09663316e+03,\n",
       "       2.98095799e+03, 8.10308393e+03])"
      ]
     },
     "execution_count": 9,
     "metadata": {},
     "output_type": "execute_result"
    }
   ],
   "source": [
    "#Calcualting exponential (e^)\n",
    "np.exp(arr)"
   ]
  },
  {
   "cell_type": "code",
   "execution_count": 10,
   "id": "c65e60a4",
   "metadata": {
    "execution": {
     "iopub.execute_input": "2022-12-08T10:04:25.889035Z",
     "iopub.status.busy": "2022-12-08T10:04:25.888439Z",
     "iopub.status.idle": "2022-12-08T10:04:25.894477Z",
     "shell.execute_reply": "2022-12-08T10:04:25.893446Z"
    },
    "id": "1GQSEllDL5Jv",
    "outputId": "24a9e2d8-ce66-4671-f399-32a42380fe6d",
    "papermill": {
     "duration": 0.014981,
     "end_time": "2022-12-08T10:04:25.896966",
     "exception": false,
     "start_time": "2022-12-08T10:04:25.881985",
     "status": "completed"
    },
    "tags": []
   },
   "outputs": [
    {
     "data": {
      "text/plain": [
       "9"
      ]
     },
     "execution_count": 10,
     "metadata": {},
     "output_type": "execute_result"
    }
   ],
   "source": [
    "np.max(arr) #same as arr.max()"
   ]
  },
  {
   "cell_type": "code",
   "execution_count": 11,
   "id": "c12d59eb",
   "metadata": {
    "execution": {
     "iopub.execute_input": "2022-12-08T10:04:25.910053Z",
     "iopub.status.busy": "2022-12-08T10:04:25.909392Z",
     "iopub.status.idle": "2022-12-08T10:04:25.918329Z",
     "shell.execute_reply": "2022-12-08T10:04:25.917088Z"
    },
    "id": "oTnJ2Cs-L5Jv",
    "outputId": "a3cabb6a-75df-4941-b362-97a081185d13",
    "papermill": {
     "duration": 0.018278,
     "end_time": "2022-12-08T10:04:25.920739",
     "exception": false,
     "start_time": "2022-12-08T10:04:25.902461",
     "status": "completed"
    },
    "tags": []
   },
   "outputs": [
    {
     "data": {
      "text/plain": [
       "array([ 0.        ,  0.84147098,  0.90929743,  0.14112001, -0.7568025 ,\n",
       "       -0.95892427, -0.2794155 ,  0.6569866 ,  0.98935825,  0.41211849])"
      ]
     },
     "execution_count": 11,
     "metadata": {},
     "output_type": "execute_result"
    }
   ],
   "source": [
    "np.sin(arr)"
   ]
  },
  {
   "cell_type": "code",
   "execution_count": 12,
   "id": "ab57bffa",
   "metadata": {
    "execution": {
     "iopub.execute_input": "2022-12-08T10:04:25.933538Z",
     "iopub.status.busy": "2022-12-08T10:04:25.933123Z",
     "iopub.status.idle": "2022-12-08T10:04:25.941065Z",
     "shell.execute_reply": "2022-12-08T10:04:25.939466Z"
    },
    "id": "8Ph3FU-iL5Jv",
    "outputId": "f820603a-f8fd-45c3-9ede-945c560713ac",
    "papermill": {
     "duration": 0.017152,
     "end_time": "2022-12-08T10:04:25.943493",
     "exception": false,
     "start_time": "2022-12-08T10:04:25.926341",
     "status": "completed"
    },
    "tags": []
   },
   "outputs": [
    {
     "name": "stderr",
     "output_type": "stream",
     "text": [
      "/opt/conda/lib/python3.7/site-packages/ipykernel_launcher.py:1: RuntimeWarning: divide by zero encountered in log\n",
      "  \"\"\"Entry point for launching an IPython kernel.\n"
     ]
    },
    {
     "data": {
      "text/plain": [
       "array([      -inf, 0.        , 0.69314718, 1.09861229, 1.38629436,\n",
       "       1.60943791, 1.79175947, 1.94591015, 2.07944154, 2.19722458])"
      ]
     },
     "execution_count": 12,
     "metadata": {},
     "output_type": "execute_result"
    }
   ],
   "source": [
    "np.log(arr)"
   ]
  },
  {
   "cell_type": "markdown",
   "id": "9ad2cc15",
   "metadata": {
    "id": "CZlZC5__L5Jv",
    "papermill": {
     "duration": 0.006665,
     "end_time": "2022-12-08T10:04:25.956011",
     "exception": false,
     "start_time": "2022-12-08T10:04:25.949346",
     "status": "completed"
    },
    "tags": []
   },
   "source": [
    "# Great Job!\n",
    "\n",
    "That's all we need to know for now!"
   ]
  }
 ],
 "metadata": {
  "kernelspec": {
   "display_name": "Python 3",
   "language": "python",
   "name": "python3"
  },
  "language_info": {
   "codemirror_mode": {
    "name": "ipython",
    "version": 3
   },
   "file_extension": ".py",
   "mimetype": "text/x-python",
   "name": "python",
   "nbconvert_exporter": "python",
   "pygments_lexer": "ipython3",
   "version": "3.7.12"
  },
  "papermill": {
   "default_parameters": {},
   "duration": 9.411615,
   "end_time": "2022-12-08T10:04:26.588596",
   "environment_variables": {},
   "exception": null,
   "input_path": "__notebook__.ipynb",
   "output_path": "__notebook__.ipynb",
   "parameters": {},
   "start_time": "2022-12-08T10:04:17.176981",
   "version": "2.3.4"
  }
 },
 "nbformat": 4,
 "nbformat_minor": 5
}
